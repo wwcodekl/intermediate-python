{
 "cells": [
  {
   "cell_type": "markdown",
   "metadata": {},
   "source": [
    "# THE BIGGER PICTURE\n",
    "Operating System (OS) architecture gives you an idea where your Python installations sits within your machine. \n",
    "\n",
    "## Sample Linux OS architecture at high-level\n",
    "In this study group, we’ll only need to touch on Shell (very minimal Unix commands) and Application layer (where Python is installed).\n"
   ]
  },
  {
   "cell_type": "markdown",
   "metadata": {},
   "source": [
    "![arch.png](img/arch.png)\n",
    "\n",
    "![arch2.png](img/arch2.png)"
   ]
  },
  {
   "cell_type": "markdown",
   "metadata": {},
   "source": [
    "# Python Environment\n",
    "\n",
    "## Common OS Installation\n",
    "### Required Installers\n",
    "- Download Python Installer : https://www.python.org/downloads/v3.7.0\n",
    "- Download VS Code : https://code.visualstudio.com/\n"
   ]
  },
  {
   "cell_type": "markdown",
   "metadata": {},
   "source": [
    "## File Path\n",
    "### Windows\n",
    "\n",
    "There are typically 2 common paths Python suggests to install for Windows:-\n",
    "- C:\\Python36-32\n",
    "    - Require admin rights\n",
    "    - Better if you want only one install of a python version on your system \n",
    "    \n",
    "    \n",
    "\n",
    "- C:\\Users\\MyUserName\\AppData\\Local\\Programs\\Python\\Python36-32\n",
    "    - Doesn't require administrator rights\n",
    "    - Only for one user - good if the other users don't want/need it\n",
    "    \n",
    "    \n",
    "    \n",
    "- Enable the checkbox option to add Python to environment PATH, this will automatically help your OS to locate the location of the installed python. (Otherwise you need to manually add it to your `Environment Variables`)\n",
    "\n",
    "Ref:\n",
    "\n",
    "https://docs.python.org/3/using/windows.html<br>\n",
    "https://docs.python.org/3/using/windows.html#setting-envvars\n"
   ]
  },
  {
   "cell_type": "markdown",
   "metadata": {},
   "source": [
    "### Mac \n",
    "Python 2.7 is pre-installed by Apple at /usr/bin/python.\n",
    "\n",
    "For other versions, it gets installed to /Library/Frameworks/Python.framework/version\n",
    "\n",
    "Ref: https://docs.python.org/3/using/mac.html"
   ]
  },
  {
   "cell_type": "markdown",
   "metadata": {},
   "source": [
    "## Packages & Modules\n",
    "### Why do we use it?\n",
    "\n",
    "- Large programs are difficult (and sometimes a nightmare) to work on.\n",
    "- Breaks down large programs into smaller manageable modules(subtasks).\n",
    "\n",
    "\n",
    "1. Simplicity <br>\n",
    "2. Maintainability <br>\n",
    "3. Reusability <br>\n",
    "4. Scoping <br>\n",
    "\n",
    "### Where are modules from\n",
    "- `import` statement used to specify modules to include in your program\n",
    "- Modules are searched in a list of directories:\n",
    "\n",
    "1.The directory of script was run <br>\n",
    "2.Directories contained in PYTHONPATH <br>\n",
    "3.Installation dependent list of directories configured during  Python Installation (slight variation between OS)<br>\n"
   ]
  },
  {
   "cell_type": "code",
   "execution_count": null,
   "metadata": {},
   "outputs": [],
   "source": [
    "import sys\n",
    "sys.path"
   ]
  },
  {
   "cell_type": "markdown",
   "metadata": {},
   "source": [
    "### Different Ways to Include Modules\n",
    "\n",
    "__1. Import module name directly:<br>__\n",
    "` import math`\n",
    "\n",
    "- Imported module has private symbol table (global scope) in caller script.\n",
    "- Module objects and attributes are remain in module's private symbol table\n",
    "- Accessible via `dot notation`\n"
   ]
  },
  {
   "cell_type": "code",
   "execution_count": null,
   "metadata": {},
   "outputs": [],
   "source": [
    "import math\n",
    "math.pi\n"
   ]
  },
  {
   "cell_type": "markdown",
   "metadata": {},
   "source": [
    "__2. Import objects within modules:<br>__\n",
    "`from math import pi`\n",
    "\n",
    "- Objects imported from module will directly be imported in caller script\n",
    "- Helps individual objects to be reference without using module name\n"
   ]
  },
  {
   "cell_type": "code",
   "execution_count": null,
   "metadata": {},
   "outputs": [],
   "source": [
    "from math import pi\n",
    "pi"
   ]
  },
  {
   "cell_type": "markdown",
   "metadata": {},
   "source": [
    "__3. Import all within modules:__\n",
    "`from math import *`\n",
    "\n",
    "- Imports everything from module, not usually recommended\n",
    "- __all__ objects from module will be placed in local symbol table"
   ]
  },
  {
   "cell_type": "code",
   "execution_count": null,
   "metadata": {},
   "outputs": [],
   "source": [
    "from math import *\n",
    "from sys import *"
   ]
  },
  {
   "cell_type": "markdown",
   "metadata": {},
   "source": [
    "# Virtual Environment\n",
    "- An environment consists of an interpreter and any number of installed packages"
   ]
  },
  {
   "cell_type": "markdown",
   "metadata": {},
   "source": [
    "![venv.png](img/venv.png)"
   ]
  },
  {
   "cell_type": "markdown",
   "metadata": {},
   "source": [
    "- Isolated environment for individual projects with its own requirements of dependencies.\n",
    "- Physically it is just a sub-folder containing scripts that creates symlinks that points to your system's Python binary location.\n",
    "- Other types of available virtual environment : `virtualenvwrapper`, `pipenv`"
   ]
  },
  {
   "cell_type": "markdown",
   "metadata": {},
   "source": [
    "![venv2.png](img/venv2.png)"
   ]
  },
  {
   "cell_type": "markdown",
   "metadata": {},
   "source": [
    "### Installation\n",
    "\n",
    "- Python 3 comes with virtualenv package installed on some OS (Windows/ Linux)\n",
    "- Otherwise you have to install virtualenv package : `pip install virtualenv`"
   ]
  },
  {
   "cell_type": "markdown",
   "metadata": {},
   "source": [
    "## Setup\n",
    "\n",
    "### 1) Create a virtual environment. \n",
    "If you have more than one python version installed, you can specify the version used in the virtual environment:\n",
    "\n",
    "\n",
    "##### Windows:\n",
    "`$ py -3 -m venv env-name` <br>\n",
    "\n",
    "##### Mac / Linux:\n",
    "\n",
    "`$ virtualenv -p python3 venv-name` <br>\n",
    "`$ virtualenv -p python2.7 venv-name`\n",
    "\n"
   ]
  },
  {
   "cell_type": "markdown",
   "metadata": {},
   "source": [
    "### 2) Defining packages requirements\n",
    "\n",
    "List of packages in virtual environments can be saved and installed to other virtual environments\n",
    "\n",
    "`$ pip freeze > requirements.txt` <br>\n",
    "`$ pip install -r requirements.txt`\n"
   ]
  },
  {
   "cell_type": "markdown",
   "metadata": {},
   "source": [
    "### 3) Activate virtual environment\n",
    "Virtual env needs to be activated to be used. Run command from the location where the virtual environment folder has been created at:\n",
    "\n",
    "##### Windows:\n",
    "`$ source Scripts/activate`\n",
    "\n",
    "##### Mac:\n",
    "`$ source venv/bin/activate`\n",
    "\n",
    "\n",
    "\n",
    "Virtual env has been activated once the its name is shown in brackets at the start of your command prompt : <br>\n",
    "`(venv-name) [jenna_mk@localhost ~]$`\n"
   ]
  },
  {
   "cell_type": "markdown",
   "metadata": {},
   "source": [
    "## Integrated Development Environments (IDE)\n",
    "\n",
    "- Tons of available IDEs available with python integration, find one you are comfortable with.\n",
    "- See this link for more details on the most commonly used IDE : https://realpython.com/python-ides-code-editors-guide/\n",
    "\n"
   ]
  },
  {
   "cell_type": "markdown",
   "metadata": {},
   "source": [
    "### Visual Studio Code\n",
    "\n",
    "1. Install VS Code <br>\n",
    "2. Open `Extensions` tab on the left side of the editor and search & install Python extension (by Microsoft)<br>\n",
    "3. Create & Activate virtual environment <br>\n",
    "4. Start coding! :)"
   ]
  },
  {
   "cell_type": "markdown",
   "metadata": {},
   "source": [
    "#### Debugger\n",
    "\n",
    "Like many other IDE, VSCode comes with a code debugger. Here's the steps to setup the debugger:\n",
    "\n",
    "1. Open the Debug panel (Ctrl+Shift+D)\n",
    "2. Look for the line of code to stop code execution\n",
    "3. Select line and use F9 to toggle between enable / disable breakpoints. Breakpoints are where the code will pause to enable you to debug the code. \n",
    "4. F5 to start debugger or click on `play` button on the Debug panel.\n",
    "5. To step through the code, use these options:\n",
    "    - Continue (F5) : Run the code and stops at the next breakpoint\n",
    "    - Step Over (F10) : Skips any function calls and stops at the next line\n",
    "    - Step Into (F11) : Steps into any function calls\n",
    "    - Step Out (Shift + F11) : Steps out from within function calls\n",
    "    - Stop (Shift + F5) : Stops debugger mode\n",
    "\n"
   ]
  },
  {
   "cell_type": "markdown",
   "metadata": {},
   "source": [
    "# Reading List\n",
    "#### VS Code \n",
    "\n",
    "1. https://code.visualstudio.com/docs/python/python-tutorial <br>\n",
    "2. https://code.visualstudio.com/docs/python/environments<br>\n",
    "3. https://code.visualstudio.com/docs/python/python-tutorial#_configure-and-run-the-debugger<br>\n",
    "4. https://code.visualstudio.com/docs/introvideos/configure<br>\n",
    "\n",
    "#### Python Package & Module\n",
    "1. http://dabeaz.com/modulepackage/\n",
    "2. [PEP 838 - Imports: Multi-Line and Absolute/Relative](https://www.python.org/dev/peps/pep-0328/)\n",
    "\n",
    "#### OS - The part that developer has to know\n",
    "1. https://hackernoon.com/introduction-to-operating-system-for-self-taught-web-developer-ba6d484398aa\n",
    "2. https://medium.com/cracking-the-data-science-interview/how-operating-systems-work-10-concepts-you-should-know-as-a-developer-8d63bb38331f\n",
    " \n",
    "#### OS - The super detail stuff for the curious mind and have loads of time to spare\n",
    "1. https://www.whoishostingthis.com/resources/os-development/\n",
    "2. https://www.amazon.com/Modern-Operating-Systems-4th-Edition/dp/013359162X\n",
    "3. https://en.wikipedia.org/wiki/Operating_system\n",
    "\n",
    "\n"
   ]
  },
  {
   "cell_type": "code",
   "execution_count": null,
   "metadata": {},
   "outputs": [],
   "source": []
  }
 ],
 "metadata": {
  "kernelspec": {
   "display_name": "Python 3",
   "language": "python",
   "name": "python3"
  },
  "language_info": {
   "codemirror_mode": {
    "name": "ipython",
    "version": 3
   },
   "file_extension": ".py",
   "mimetype": "text/x-python",
   "name": "python",
   "nbconvert_exporter": "python",
   "pygments_lexer": "ipython3",
   "version": "3.7.0"
  }
 },
 "nbformat": 4,
 "nbformat_minor": 2
}
